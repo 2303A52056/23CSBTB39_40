{
  "nbformat": 4,
  "nbformat_minor": 0,
  "metadata": {
    "colab": {
      "provenance": [],
      "authorship_tag": "ABX9TyOcuHrJoQsz0kwoWWEH9DmM",
      "include_colab_link": true
    },
    "kernelspec": {
      "name": "python3",
      "display_name": "Python 3"
    },
    "language_info": {
      "name": "python"
    }
  },
  "cells": [
    {
      "cell_type": "markdown",
      "metadata": {
        "id": "view-in-github",
        "colab_type": "text"
      },
      "source": [
        "<a href=\"https://colab.research.google.com/github/2303A52056/23CSBTB39_40/blob/main/Assignment2.ipynb\" target=\"_parent\"><img src=\"https://colab.research.google.com/assets/colab-badge.svg\" alt=\"Open In Colab\"/></a>"
      ]
    },
    {
      "cell_type": "code",
      "execution_count": 1,
      "metadata": {
        "colab": {
          "base_uri": "https://localhost:8080/"
        },
        "id": "ufopRVaukFBo",
        "outputId": "1352ce27-e922-452e-e08a-b3a6d1ea6752"
      },
      "outputs": [
        {
          "output_type": "stream",
          "name": "stdout",
          "text": [
            "The adjacency List representing the graph is:\n",
            "{0: [1, 3], 1: [0, 2, 3], 2: [4, 1, 5], 3: [4, 0, 1], 4: [2, 3, 5], 5: [4, 2], 6: []}\n",
            "BFS traversal of graph with source 0 is:\n",
            "0-->1-->3-->2-->4-->5-->"
          ]
        }
      ],
      "source": [
        "from queue import Queue\n",
        "\n",
        "graph = {0: [1, 3], 1: [0, 2, 3], 2: [4, 1, 5], 3: [4, 0, 1], 4: [2, 3, 5], 5: [4, 2], 6: []}\n",
        "print(\"The adjacency List representing the graph is:\")\n",
        "print(graph)\n",
        "\n",
        "\n",
        "def bfs(graph, source):\n",
        "    Q = Queue()\n",
        "    visited_vertices = set()\n",
        "    Q.put(source)\n",
        "    visited_vertices.update({0})\n",
        "    while not Q.empty():\n",
        "        vertex = Q.get()\n",
        "        print(vertex, end=\"-->\")\n",
        "        for u in graph[vertex]:\n",
        "            if u not in visited_vertices:\n",
        "                Q.put(u)\n",
        "                visited_vertices.update({u})\n",
        "\n",
        "print(\"BFS traversal of graph with source 0 is:\")\n",
        "bfs(graph, 0)\n"
      ]
    },
    {
      "cell_type": "code",
      "source": [
        "graph1 = {\n",
        "    'A' : ['B','S'],\n",
        "    'B' : ['A'],\n",
        "    'C' : ['D','E','F','S'],\n",
        "    'D' : ['C'],\n",
        "    'E' : ['C','H'],\n",
        "    'F' : ['C','G'],\n",
        "    'G' : ['F','S'],\n",
        "    'H' : ['E','G'],\n",
        "    'S' : ['A','C','G']\n",
        "}\n",
        "\n",
        "def dfs(graph, node, visited):\n",
        "    if node not in visited:\n",
        "        visited.append(node)\n",
        "        for k in graph[node]:\n",
        "            dfs(graph,k, visited)\n",
        "    return visited\n",
        "\n",
        "visited = dfs(graph1,'D', [])\n",
        "print(visited)"
      ],
      "metadata": {
        "colab": {
          "base_uri": "https://localhost:8080/"
        },
        "id": "YTiGOjqxkQIF",
        "outputId": "957f406e-8f71-4bd6-9a40-03850520cb14"
      },
      "execution_count": 2,
      "outputs": [
        {
          "output_type": "stream",
          "name": "stdout",
          "text": [
            "['D', 'C', 'E', 'H', 'G', 'F', 'S', 'A', 'B']\n"
          ]
        }
      ]
    },
    {
      "cell_type": "code",
      "source": [
        "from copy import deepcopy\n",
        "import numpy as np\n",
        "import time\n",
        "\n",
        "def bestsolution(state):\n",
        "    bestsol = np.array([], int).reshape(-1, 9)\n",
        "    count = len(state) - 1\n",
        "    while count != -1:\n",
        "        bestsol = np.insert(bestsol, 0, state[count]['puzzle'], 0)\n",
        "        count = (state[count]['parent'])\n",
        "    return bestsol.reshape(-1, 3, 3)\n",
        "\n",
        "\n",
        "# checks for the uniqueness of the iteration(it).\n",
        "def all(checkarray):\n",
        "    set=[]\n",
        "    for it in set:\n",
        "        for checkarray in it:\n",
        "            return 1\n",
        "        else:\n",
        "            return 0\n",
        "\n",
        "\n",
        "# number of misplaced tiles\n",
        "def misplaced_tiles(puzzle,goal):\n",
        "    mscost = np.sum(puzzle != goal) - 1\n",
        "    return mscost if mscost > 0 else 0\n",
        "\n",
        "\n",
        "def coordinates(puzzle):\n",
        "    pos = np.array(range(9))\n",
        "    for p, q in enumerate(puzzle):\n",
        "        pos[q] = p\n",
        "    return pos\n",
        "\n",
        "\n",
        "# start of 8 puzzle evaluvation, using Misplaced tiles heuristics\n",
        "def evaluvate_misplaced(puzzle, goal):\n",
        "    steps = np.array([('up', [0, 1, 2], -3),('down', [6, 7, 8],  3),('left', [0, 3, 6], -1),('right', [2, 5, 8],  1)],\n",
        "                dtype =  [('move',  str, 1),('position', list),('head', int)])\n",
        "\n",
        "    dtstate = [('puzzle',  list),('parent', int),('gn',  int),('hn',  int)]\n",
        "\n",
        "    costg = coordinates(goal)\n",
        "\n",
        "    # initializing the parent, gn and hn, where hn is misplaced_tiles  function call\n",
        "    parent = -1\n",
        "    gn = 0\n",
        "    hn = misplaced_tiles(coordinates(puzzle), costg)\n",
        "    state = np.array([(puzzle, parent, gn, hn)], dtstate)\n",
        "\n",
        "   #priority queues with position as keys and fn as value.\n",
        "    dtpriority = [('position', int),('fn', int)]\n",
        "\n",
        "    priority = np.array([(0, hn)], dtpriority)\n",
        "\n",
        "    while 1:\n",
        "        priority = np.sort(priority, kind='mergesort', order=['fn', 'position'])\n",
        "        position, fn = priority[0]\n",
        "        # sort priority queue using merge sort,the first element is picked for exploring.\n",
        "        priority = np.delete(priority, 0, 0)\n",
        "        puzzle, parent, gn, hn = state[position]\n",
        "        puzzle = np.array(puzzle)\n",
        "\n",
        "        blank = int(np.where(puzzle == 0)[0])\n",
        "\n",
        "        gn = gn + 1\n",
        "        c = 1\n",
        "        start_time = time.time()\n",
        "        for s in steps:\n",
        "            c = c + 1\n",
        "            if blank not in s['position']:\n",
        "                openstates = deepcopy(puzzle)\n",
        "                openstates[blank], openstates[blank + s['head']] = openstates[blank + s['head']], openstates[blank]\n",
        "\n",
        "                if ~(np.all(list(state['puzzle']) == openstates, 1)).any():\n",
        "                    end_time = time.time()\n",
        "                    if (( end_time - start_time ) > 2):\n",
        "                        print(\" The 8 puzzle is unsolvable \\n\")\n",
        "                        break\n",
        "\n",
        "                    hn = misplaced_tiles(coordinates(openstates), costg)\n",
        "                    # generate and add new state in the list\n",
        "                    q = np.array([(openstates, position, gn, hn)], dtstate)\n",
        "                    state = np.append(state, q, 0)\n",
        "                    # f(n) is the sum of cost to reach node\n",
        "                    fn = gn + hn\n",
        "\n",
        "                    q = np.array([(len(state) - 1, fn)], dtpriority)\n",
        "                    priority = np.append(priority, q, 0)\n",
        "\n",
        "                    if np.array_equal(openstates, goal):\n",
        "                        print(' The 8 puzzle is solvable \\n')\n",
        "                        return state, len(priority)\n",
        "\n",
        "    return state, len(priority)\n",
        "\n",
        "\n",
        "# initial state\n",
        "puzzle = []\n",
        "\n",
        "puzzle.append(2)\n",
        "puzzle.append(8)\n",
        "puzzle.append(3)\n",
        "puzzle.append(7)\n",
        "puzzle.append(1)\n",
        "puzzle.append(4)\n",
        "puzzle.append(0)\n",
        "puzzle.append(6)\n",
        "puzzle.append(5)\n",
        "\n",
        "#goal state\n",
        "goal = []\n",
        "\n",
        "goal.append(1)\n",
        "goal.append(2)\n",
        "goal.append(3)\n",
        "goal.append(8)\n",
        "goal.append(0)\n",
        "goal.append(4)\n",
        "goal.append(7)\n",
        "goal.append(6)\n",
        "goal.append(5)\n",
        "\n",
        "\n",
        "state, visited = evaluvate_misplaced(puzzle, goal)\n",
        "bestpath = bestsolution(state)\n",
        "print(str(bestpath).replace('[', ' ').replace(']', ''))\n",
        "totalmoves = len(bestpath) - 1\n",
        "print('\\nSteps to reach goal:',totalmoves)\n",
        "visit = len(state) - visited\n",
        "print('Total nodes visited: ',visit, \"\\n\")"
      ],
      "metadata": {
        "colab": {
          "base_uri": "https://localhost:8080/"
        },
        "id": "FUOmNB2NlEi2",
        "outputId": "05e345b8-31e2-4e48-90d2-2adf6ffe757c"
      },
      "execution_count": 3,
      "outputs": [
        {
          "output_type": "stream",
          "name": "stdout",
          "text": [
            " The 8 puzzle is solvable \n",
            "\n",
            "   2 8 3\n",
            "   7 1 4\n",
            "   0 6 5\n",
            "\n",
            "   2 8 3\n",
            "   0 1 4\n",
            "   7 6 5\n",
            "\n",
            "   2 8 3\n",
            "   1 0 4\n",
            "   7 6 5\n",
            "\n",
            "   2 0 3\n",
            "   1 8 4\n",
            "   7 6 5\n",
            "\n",
            "   0 2 3\n",
            "   1 8 4\n",
            "   7 6 5\n",
            "\n",
            "   1 2 3\n",
            "   0 8 4\n",
            "   7 6 5\n",
            "\n",
            "   1 2 3\n",
            "   8 0 4\n",
            "   7 6 5\n",
            "\n",
            "Steps to reach goal: 6\n",
            "Total nodes visited:  11 \n",
            "\n"
          ]
        },
        {
          "output_type": "stream",
          "name": "stderr",
          "text": [
            "<ipython-input-3-f1708b19b664>:65: DeprecationWarning: Conversion of an array with ndim > 0 to a scalar is deprecated, and will error in future. Ensure you extract a single element from your array before performing this operation. (Deprecated NumPy 1.25.)\n",
            "  blank = int(np.where(puzzle == 0)[0])\n"
          ]
        }
      ]
    },
    {
      "cell_type": "markdown",
      "source": [
        "![graph1.jfif](data:image/jpeg;base64,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)"
      ],
      "metadata": {
        "id": "cmmEb58Ekq19"
      }
    }
  ]
}